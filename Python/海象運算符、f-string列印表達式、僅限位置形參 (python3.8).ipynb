{
 "cells": [
  {
   "cell_type": "markdown",
   "source": [
    "## 海象運算符 the walrus operator (:= )\r\n",
    "* 記得都要括號起來最好\r\n",
    "* 不用額外創建變量，也能用變量\r\n",
    "* 感覺對於臨時取用一次的變量蠻好的"
   ],
   "metadata": {}
  },
  {
   "cell_type": "markdown",
   "source": [
    "## 基本表達方式"
   ],
   "metadata": {}
  },
  {
   "cell_type": "code",
   "execution_count": 6,
   "source": [
    "myBox = [ 'apple', 'banana', 'orange', 'trump' ]\r\n",
    "if (size := len(myBox)) > 3:\r\n",
    "    print(f'盒子只能裝3個水果，裝不下的，你有{size}樣水果了！')\r\n",
    "print(size) # 並且可以隨時取用了耶!"
   ],
   "outputs": [
    {
     "output_type": "stream",
     "name": "stdout",
     "text": [
      "盒子只能裝3個水果，裝不下的，你有4樣水果了！\n",
      "4\n"
     ]
    }
   ],
   "metadata": {}
  },
  {
   "cell_type": "markdown",
   "source": [
    "## 搭配生成器\r\n",
    "* 找1~4號，並找出不及格的 (2號已經退學)"
   ],
   "metadata": {}
  },
  {
   "cell_type": "code",
   "execution_count": 2,
   "source": [
    "# * 原先打法\r\n",
    "# 學生表（Key:value = id:{學生資料}）\r\n",
    "students = {\r\n",
    "    1: {'name': '小明', 'score': '及格'},\r\n",
    "    3: {'name': '小红', 'score': '不及格'},\r\n",
    "    4: {'name': '小绿', 'score': '不及格'}\r\n",
    "}\r\n",
    "# 找1~4號，並找出不及格的 (2號已經退學)\r\n",
    "results = []\r\n",
    "for stuId in range(1, 5):\r\n",
    "    student = students.get(stuId) # 如果是不存在的key则会取到None\r\n",
    "    if student and student['score'] == '不及格': # 需要过滤掉是None的值，并取不及格的学生\r\n",
    "        results.append(student)\r\n",
    "print(results)"
   ],
   "outputs": [
    {
     "output_type": "stream",
     "name": "stdout",
     "text": [
      "[{'name': '小红', 'score': '不及格'}, {'name': '小绿', 'score': '不及格'}]\n"
     ]
    }
   ],
   "metadata": {}
  },
  {
   "cell_type": "markdown",
   "source": [
    "* if後面，冒號要記得用括號包起來"
   ],
   "metadata": {}
  },
  {
   "cell_type": "code",
   "execution_count": 4,
   "source": [
    "# * 海象打法\r\n",
    "students = {\r\n",
    "    1: {'name': '小明', 'score': '及格'},\r\n",
    "    3: {'name': '小红', 'score': '不及格'},\r\n",
    "    4: {'name': '小绿', 'score': '不及格'}\r\n",
    "}\r\n",
    "\r\n",
    "# XLX print([student := students.get(stuId) for stuId in range(1,5)]) # 列出所有ID資料，包含被退學的學生\r\n",
    "print([students.get(stuId) for stuId in range(1,5)]) # !根本不需要...\r\n",
    "print([student for stuId in range(1,5) if (student := students.get(stuId))!=None]) # if後面，海象要包起來()，才能執行\r\n",
    "print([student for stuId in range(1,5) if (student := students.get(stuId))])  # 不等於None可省略\r\n",
    "print([student for stuId in range(1,5) \r\n",
    "        if (student := students.get(stuId)) and student['score']=='不及格']) # 新增第二個條件"
   ],
   "outputs": [
    {
     "output_type": "stream",
     "name": "stdout",
     "text": [
      "[{'name': '小明', 'score': '及格'}, None, {'name': '小红', 'score': '不及格'}, {'name': '小绿', 'score': '不及格'}]\n",
      "[{'name': '小明', 'score': '及格'}, {'name': '小红', 'score': '不及格'}, {'name': '小绿', 'score': '不及格'}]\n",
      "[{'name': '小明', 'score': '及格'}, {'name': '小红', 'score': '不及格'}, {'name': '小绿', 'score': '不及格'}]\n",
      "[{'name': '小红', 'score': '不及格'}, {'name': '小绿', 'score': '不及格'}]\n"
     ]
    }
   ],
   "metadata": {}
  },
  {
   "cell_type": "markdown",
   "source": [
    "## 搭配迴圈 (記得要括號!!)\r\n",
    "任意數字直到想addup求和 (輸入addup以外會壞掉)"
   ],
   "metadata": {}
  },
  {
   "cell_type": "code",
   "execution_count": 7,
   "source": [
    "# 原先打法\r\n",
    "inputs = []\r\n",
    "while True:\r\n",
    "    userInput = input('give me a number or\"addup\"：')\r\n",
    "    if userInput == 'addup':\r\n",
    "        break\r\n",
    "    inputs.append(int(userInput))\r\n",
    "\r\n",
    "print('求和的结果是：', sum(inputs))"
   ],
   "outputs": [
    {
     "output_type": "stream",
     "name": "stdout",
     "text": [
      "求和的结果是： 12\n"
     ]
    }
   ],
   "metadata": {}
  },
  {
   "cell_type": "code",
   "execution_count": 8,
   "source": [
    "# 海象打法\r\n",
    "inputs = []\r\n",
    "while userInput:=input('give me a number or \"addup\"：') != 'addup':\r\n",
    "    inputs.append(int(userInput))\r\n",
    "print('求和的结果是：', sum(inputs))"
   ],
   "outputs": [
    {
     "output_type": "stream",
     "name": "stdout",
     "text": [
      "求和的结果是： 3\n"
     ]
    }
   ],
   "metadata": {}
  },
  {
   "cell_type": "markdown",
   "source": [
    "Positional-only parameters"
   ],
   "metadata": {}
  },
  {
   "cell_type": "markdown",
   "source": [
    "## f-string\r\n",
    "* f-strings support = for self-documenting expressions and debugging\r\n",
    "* {=} 加上=可以將表達式一起印出來"
   ],
   "metadata": {}
  },
  {
   "cell_type": "code",
   "execution_count": 8,
   "source": [
    "data = ['哈哈', '嘻嘻']\r\n",
    "count = len(data)\r\n",
    "a,b = 1,2\r\n",
    "print(f'{data=}, {count=}, {a+b=}')"
   ],
   "outputs": [
    {
     "output_type": "stream",
     "name": "stdout",
     "text": [
      "data=['哈哈', '嘻嘻'], count=2, a+b=3\n"
     ]
    }
   ],
   "metadata": {}
  },
  {
   "cell_type": "markdown",
   "source": [
    "## 僅限位置形參 Positional-only parameters\r\n",
    "* / 之前只能給值，*之後只能給鍵與值，中間隨便"
   ],
   "metadata": {}
  },
  {
   "cell_type": "code",
   "execution_count": 9,
   "source": [
    "def newop(a,b,/,c,d,*,e,f):\r\n",
    "    print(f'''[all parameter list]\r\n",
    "        {a=}\r\n",
    "        {b=}\r\n",
    "        {c=}\r\n",
    "        {d=}\r\n",
    "        {e=}\r\n",
    "        {f=}\r\n",
    "    {a+b+c+d+e+f=}''')\r\n",
    "\r\n",
    "newop(1,2,3,4,e=5,f=6)\r\n",
    "newop(1,2,d=4,c=3,e=5,f=6)"
   ],
   "outputs": [
    {
     "output_type": "stream",
     "name": "stdout",
     "text": [
      "[all parameter list]\n",
      "        a=1\n",
      "        b=2\n",
      "        c=3\n",
      "        d=4\n",
      "        e=5\n",
      "        f=6\n",
      "    a+b+c+d+e+f=21\n",
      "[all parameter list]\n",
      "        a=1\n",
      "        b=2\n",
      "        c=3\n",
      "        d=4\n",
      "        e=5\n",
      "        f=6\n",
      "    a+b+c+d+e+f=21\n"
     ]
    }
   ],
   "metadata": {}
  },
  {
   "cell_type": "markdown",
   "source": [
    "[是时候将你的Python版本升级到3.8了！为什么我选择Python3.8？_你好，PurePeace！-CSDN博客](https://blog.csdn.net/qq_26373925/article/details/107674955) at 2021-08-11T21:22:33."
   ],
   "metadata": {}
  }
 ],
 "metadata": {
  "orig_nbformat": 4,
  "language_info": {
   "name": "python",
   "version": "3.8.7",
   "mimetype": "text/x-python",
   "codemirror_mode": {
    "name": "ipython",
    "version": 3
   },
   "pygments_lexer": "ipython3",
   "nbconvert_exporter": "python",
   "file_extension": ".py"
  },
  "kernelspec": {
   "name": "python3",
   "display_name": "Python 3.8.7 64-bit"
  },
  "interpreter": {
   "hash": "f496e74250f09e02f45ac5836ff921176ce18902e2bbabbed1334249f51a6661"
  }
 },
 "nbformat": 4,
 "nbformat_minor": 2
}