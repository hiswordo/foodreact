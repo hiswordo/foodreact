{
 "cells": [
  {
   "cell_type": "markdown",
   "source": [
    "# (少打另一邊的括號"
   ],
   "metadata": {}
  },
  {
   "cell_type": "code",
   "execution_count": 1,
   "source": [
    "word = 'banana'\r\n",
    "print(word.count('a')"
   ],
   "outputs": [
    {
     "output_type": "error",
     "ename": "SyntaxError",
     "evalue": "unexpected EOF while parsing (Temp/ipykernel_12864/1480098328.py, line 2)",
     "traceback": [
      "\u001b[1;36m  File \u001b[1;32m\"C:\\Users\\oEdward\\AppData\\Local\\Temp/ipykernel_12864/1480098328.py\"\u001b[1;36m, line \u001b[1;32m2\u001b[0m\n\u001b[1;33m    print(word.count('a')\u001b[0m\n\u001b[1;37m                         ^\u001b[0m\n\u001b[1;31mSyntaxError\u001b[0m\u001b[1;31m:\u001b[0m unexpected EOF while parsing\n"
     ]
    }
   ],
   "metadata": {}
  }
 ],
 "metadata": {
  "orig_nbformat": 4,
  "language_info": {
   "name": "python",
   "version": "3.8.7",
   "mimetype": "text/x-python",
   "codemirror_mode": {
    "name": "ipython",
    "version": 3
   },
   "pygments_lexer": "ipython3",
   "nbconvert_exporter": "python",
   "file_extension": ".py"
  },
  "kernelspec": {
   "name": "python3",
   "display_name": "Python 3.8.7 64-bit"
  },
  "interpreter": {
   "hash": "f496e74250f09e02f45ac5836ff921176ce18902e2bbabbed1334249f51a6661"
  }
 },
 "nbformat": 4,
 "nbformat_minor": 2
}