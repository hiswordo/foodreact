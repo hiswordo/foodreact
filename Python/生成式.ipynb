{
 "cells": [
  {
   "cell_type": "markdown",
   "source": [
    "# 生成式"
   ],
   "metadata": {}
  },
  {
   "cell_type": "markdown",
   "source": [
    "## 奇數List (集合，相同做法)"
   ],
   "metadata": {}
  },
  {
   "cell_type": "code",
   "execution_count": 3,
   "source": [
    "num_list1 = [num for num in range(1,6,2)]\r\n",
    "num_list2 = {num for num in range(1,6,2)}\r\n",
    "num_list3 = [num for num in range(1,6) if num%2 == 1]\r\n",
    "print(num_list1)\r\n",
    "print(num_list2)\r\n",
    "print(num_list3)\r\n",
    "print([num for num in range(1,6,2)])"
   ],
   "outputs": [
    {
     "output_type": "stream",
     "name": "stdout",
     "text": [
      "[1, 3, 5]\n",
      "{1, 3, 5}\n",
      "[1, 3, 5]\n",
      "[1, 3, 5]\n"
     ]
    }
   ],
   "metadata": {}
  },
  {
   "cell_type": "markdown",
   "source": [
    "## tuple"
   ],
   "metadata": {}
  },
  {
   "cell_type": "code",
   "execution_count": 14,
   "source": [
    "cells = [(row,col) for row in range(1,4) for col in range(1,3)]\r\n",
    "print(cells)\r\n",
    "for row, col in cells:  # tuple unpacking，從每一個 tuple 中拉出值\r\n",
    "    print(row, col,end=', ')"
   ],
   "outputs": [
    {
     "output_type": "stream",
     "name": "stdout",
     "text": [
      "[(1, 1), (1, 2), (2, 1), (2, 2), (3, 1), (3, 2)]\n",
      "1 1, 1 2, 2 1, 2 2, 3 1, 3 2, "
     ]
    }
   ],
   "metadata": {}
  },
  {
   "cell_type": "markdown",
   "source": [
    "## 字典生成式 - 計算Word的letter數3\r\n",
    "* 同一個key，同value再跑一遍，只是更換字典內既有的項目"
   ],
   "metadata": {}
  },
  {
   "cell_type": "code",
   "execution_count": 4,
   "source": [
    "word = 'yellowbanana'\r\n",
    "letter_count1 = {letter: word.count(letter) for letter in word} # yellow由前至後，排列字典\r\n",
    "letter_count2 = {letter: word.count(letter) for letter in sorted(word)} # 按ABC順序排列字典\r\n",
    "letter_count3 = {letter: word.count(letter) for letter in set(word)} # 隨機排列字典\r\n",
    "print(letter_count1)\r\n",
    "print(letter_count2)\r\n",
    "print(letter_count3)\r\n",
    "# 因為字典的{}會跟f-string衝突，所以如果要一行解決，可以搭配海象\r\n",
    "print((let1 :={letter: word.count(letter) for letter in word})) \r\n",
    "# 補充: 頻率計數器 {誰:幾次}\r\n",
    "list01 = [1,2,3,4,5,6,6,3,2]\r\n",
    "print({i: list01.count(i) for i in range(1,7)})\r\n"
   ],
   "outputs": [
    {
     "output_type": "stream",
     "name": "stdout",
     "text": [
      "{'y': 1, 'e': 1, 'l': 2, 'o': 1, 'w': 1, 'b': 1, 'a': 3, 'n': 2}\n",
      "{'a': 3, 'b': 1, 'e': 1, 'l': 2, 'n': 2, 'o': 1, 'w': 1, 'y': 1}\n",
      "{'y': 1, 'e': 1, 'w': 1, 'o': 1, 'a': 3, 'n': 2, 'l': 2, 'b': 1}\n",
      "{'y': 1, 'e': 1, 'l': 2, 'o': 1, 'w': 1, 'b': 1, 'a': 3, 'n': 2}\n",
      "{1: 1, 2: 2, 3: 2, 4: 1, 5: 1, 6: 2}\n"
     ]
    }
   ],
   "metadata": {}
  }
 ],
 "metadata": {
  "orig_nbformat": 4,
  "language_info": {
   "name": "python",
   "version": "3.8.7",
   "mimetype": "text/x-python",
   "codemirror_mode": {
    "name": "ipython",
    "version": 3
   },
   "pygments_lexer": "ipython3",
   "nbconvert_exporter": "python",
   "file_extension": ".py"
  },
  "kernelspec": {
   "name": "python3",
   "display_name": "Python 3.8.7 64-bit"
  },
  "interpreter": {
   "hash": "f496e74250f09e02f45ac5836ff921176ce18902e2bbabbed1334249f51a6661"
  }
 },
 "nbformat": 4,
 "nbformat_minor": 2
}