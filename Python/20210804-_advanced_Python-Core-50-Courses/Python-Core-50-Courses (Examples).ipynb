{
 "cells": [
  {
   "cell_type": "markdown",
   "source": [
    "撲克遊戲\r\n",
    "* 52張牌發給四個人: 按黑桃、紅心、草花、方塊的順序和點數從小到大排列\r\n",
    "    * 建立新牌: 迴圈append到Carddeck list\r\n",
    "    * 排列方式: __lt__搭sort"
   ],
   "metadata": {}
  },
  {
   "cell_type": "code",
   "execution_count": 2,
   "source": [
    "import random\r\n",
    "\r\n",
    "cardSuite = ['♠','♥','♣','♦'] #['spade','heart','club','diamond'] ord:9824 9829 9827 9830\r\n",
    "\r\n",
    "# 建立撲克牌的定義\r\n",
    "class Card:\r\n",
    "    def __init__(self,suite,num):\r\n",
    "        self.suite = suite\r\n",
    "        self.num = num\r\n",
    "    def __repr__(self) -> str:\r\n",
    "        return f'{self.suite}{self.num}'\r\n",
    "    def __lt__(self, other): # \r\n",
    "        if self.suite == other.suite: \r\n",
    "            return self.num < other.num\r\n",
    "        return cardSuite.index(self.suite) < cardSuite.index(other.suite) \r\n",
    "        #按照['♠','♥','♣','♦']排列 [♠8, ♠10, ♠12, ♥7, ♣3, ♣5, ♣8, ♦1, ♦2, ♦6, ♦9, ♦10, ♦11]\r\n",
    "\r\n",
    "# 建立新的一副撲克牌\r\n",
    "carddeck = []\r\n",
    "for i in cardSuite:\r\n",
    "    for j in range(1,14):\r\n",
    "        carddeck.append(Card(i,j))\r\n",
    "\r\n",
    "# 洗牌+發牌\r\n",
    "random.shuffle(carddeck)\r\n",
    "player01 = carddeck[0:13]\r\n",
    "player02 = carddeck[13:26]\r\n",
    "player03 = carddeck[26:39]\r\n",
    "player04 = carddeck[39:52]\r\n",
    "print(type(player01))  # <class 'list'>\r\n",
    "print(player01) #[♥7, ♥12, ♠2, ♣1, ♣11, ♥4, ♣2, ♦6, ♦13, ♥3, ♥8, ♥6, ♥13]\r\n",
    "print(type(player01[1])) # <class '__main__.Card'>\r\n",
    "# 用物件指向的__lt__搭配sort理牌\r\n",
    "player01 = sorted(player01)\r\n",
    "print(player01)"
   ],
   "outputs": [
    {
     "output_type": "stream",
     "name": "stdout",
     "text": [
      "<class 'list'>\n",
      "[♦3, ♥9, ♠13, ♦4, ♦9, ♥2, ♥3, ♣12, ♥1, ♦13, ♣13, ♣9, ♠9]\n",
      "<class '__main__.Card'>\n",
      "[♠9, ♠13, ♥1, ♥2, ♥3, ♥9, ♣9, ♣12, ♣13, ♦3, ♦4, ♦9, ♦13]\n"
     ]
    }
   ],
   "metadata": {}
  }
 ],
 "metadata": {
  "orig_nbformat": 4,
  "language_info": {
   "name": "python",
   "version": "3.8.7",
   "mimetype": "text/x-python",
   "codemirror_mode": {
    "name": "ipython",
    "version": 3
   },
   "pygments_lexer": "ipython3",
   "nbconvert_exporter": "python",
   "file_extension": ".py"
  },
  "kernelspec": {
   "name": "python3",
   "display_name": "Python 3.8.7 64-bit"
  },
  "interpreter": {
   "hash": "f496e74250f09e02f45ac5836ff921176ce18902e2bbabbed1334249f51a6661"
  }
 },
 "nbformat": 4,
 "nbformat_minor": 2
}