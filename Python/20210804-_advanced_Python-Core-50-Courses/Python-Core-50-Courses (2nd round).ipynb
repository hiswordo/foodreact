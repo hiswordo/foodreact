{
    "cells": [
        {
            "cell_type": "markdown",
            "source": [
                "繼承和多型"
            ],
            "metadata": {}
        },
        {
            "cell_type": "code",
            "execution_count": 3,
            "source": [
                "class Person:\r\n",
                "    def __init__(self, name, age):\r\n",
                "        self.name = name\r\n",
                "        self.age = age\r\n",
                "\r\n",
                "    def sleep(self):\r\n",
                "        print(f'{self.name}正在睡覺.')\r\n",
                "\r\n",
                "class Man(Person):\r\n",
                "    def __init__(self, name, age):\r\n",
                "        # super(Man, self).__init__(name, age)\r\n",
                "        super().__init__(name,age)\r\n",
                "\r\n",
                "class Superman(Person):\r\n",
                "\r\n",
                "    def __init__(self, name, age, title):\r\n",
                "        # super(Superman, self).__init__(name, age)\r\n",
                "        super().__init__(name, age)\r\n",
                "        self.title = title\r\n",
                "    \r\n",
                "    def fightwith(self, play_name):\r\n",
                "        print(f'{self.name}{self.title}使出{play_name}。') # None哪裡來的??\r\n",
                "\r\n",
                "    def sleep(self):\r\n",
                "        print(f'{self.name}不用睡覺.')\r\n",
                "\r\n",
                "Man1 = Man('傻瓜','18')\r\n",
                "Superman1 = Superman('小龍','99','龍俠')\r\n",
                "Man1.sleep()\r\n",
                "Superman1.sleep()\r\n",
                "print(type(Superman1))\r\n",
                "print(Superman1.fightwith('吼呂凱'))"
            ],
            "outputs": [
                {
                    "output_type": "stream",
                    "name": "stdout",
                    "text": [
                        "傻瓜正在睡覺.\n",
                        "小龍不用睡覺.\n",
                        "<class '__main__.Superman'>\n",
                        "小龍龍俠使出吼呂凱。\n",
                        "None\n"
                    ]
                }
            ],
            "metadata": {}
        },
        {
            "cell_type": "markdown",
            "source": [
                "Staticmethod vs classmethod\r\n",
                "* 後者需要類引數cls (名稱自取)\r\n",
                "* 兩者本身都不能創建物件，後者可以用來創建物件"
            ],
            "metadata": {}
        },
        {
            "cell_type": "code",
            "execution_count": 1,
            "source": [
                "# @link [Python 的 staticmethod 與 classmethod | by 莊子弘 | Medium](https://ji3g4zo6qi6.medium.com/python-tips-5d36df9f6ad5) at 2021-08-10T14:38:00.\r\n",
                "class Triangle(object):\r\n",
                "    \"\"\"三角形類\"\"\"\r\n",
                "\r\n",
                "    def __init__(self, a, b, c):\r\n",
                "        \"\"\"初始化方法\"\"\"\r\n",
                "        self.a = a\r\n",
                "        self.b = b\r\n",
                "        self.c = c\r\n",
                "\r\n",
                "    @classmethod\r\n",
                "    def is_valid(cls, a, b, c):\r\n",
                "        if a + b > c and b + c > a and a + c > b:\r\n",
                "            return cls(a,b,c) # =Triangle(a,b,c)\r\n",
                "        else:\r\n",
                "            print(f'cls的位置:{hex(id(cls))}')\r\n",
                "            print(\"這不是三角形喔，不能創建，抱歉!\")\r\n",
                "            return cls(0,0,0)\r\n",
                "\r\n",
                "    def perimeter(this):\r\n",
                "        \"\"\"計算周長\"\"\"\r\n",
                "        return this.a + this.b + this.c\r\n",
                "\r\n",
                "    def area(self):\r\n",
                "        \"\"\"計算面積\"\"\"\r\n",
                "        p = self.perimeter() / 2\r\n",
                "        return (p * (p - self.a) * (p - self.b) * (p - self.c)) ** 0.5\r\n",
                "print(f'Triangle類的位置:{hex(id(Triangle))}')\r\n",
                "\r\n",
                "tri1 = Triangle.is_valid(2,1,3)\r\n",
                "print(f'tri1:{tri1.a},{tri1.b},{tri1.c}')\r\n",
                "tri2 = Triangle.is_valid(2,3,4)\r\n",
                "print(f'tri2:{tri2.a},{tri2.b},{tri2.c}')\r\n",
                "print(tri2.perimeter())"
            ],
            "outputs": [
                {
                    "output_type": "stream",
                    "name": "stdout",
                    "text": [
                        "Triangle類的位置:0x3e69540\n",
                        "cls的位置:0x3e69540\n",
                        "這不是三角形喔，不能創建，抱歉!\n",
                        "tri1:0,0,0\n",
                        "tri2:2,3,4\n",
                        "9\n"
                    ]
                }
            ],
            "metadata": {}
        },
        {
            "cell_type": "markdown",
            "source": [
                "動態儲存\r\n",
                "* 物件內的屬性到底用甚麼型態儲存呢??"
            ],
            "metadata": {}
        },
        {
            "cell_type": "code",
            "execution_count": 13,
            "source": [
                "class Student:\r\n",
                "    # __slots__ = ('name', 'age') # 如果加了slot就限定只能有這兩項屬性了\r\n",
                "\r\n",
                "    def __init__(self, name, age):\r\n",
                "        self.name = name\r\n",
                "        self.age = age\r\n",
                "\r\n",
                "stu = Student('王大錘', 20)\r\n",
                "stu.sex = '男' # 動態新增屬性\r\n",
                "print(stu.sex)"
            ],
            "outputs": [
                {
                    "output_type": "stream",
                    "name": "stdout",
                    "text": [
                        "男\n"
                    ]
                }
            ],
            "metadata": {}
        },
        {
            "cell_type": "markdown",
            "source": [
                "私有屬性存取方式:\r\n",
                "1.物件._Class__屬性\r\n",
                "2.\r\n",
                "@property \r\n",
                "def name(){return self.__name}\r\n",
                "\r\n",
                "私有屬性修改方式:\r\n",
                "@屬性.setter\r\n",
                "def name(self,name){self.__name = name or '?'}"
            ],
            "metadata": {}
        },
        {
            "cell_type": "code",
            "execution_count": 10,
            "source": [
                "# 存取私有屬性利用屬性裝飾器\r\n",
                "class Student:\r\n",
                "\r\n",
                "    def __init__(self, name, age):\r\n",
                "        self.__name = name\r\n",
                "        self.__age = age\r\n",
                "\r\n",
                "    # 屬性訪問器(getter方法) - 獲取__name屬性\r\n",
                "    @property\r\n",
                "    def name(self):\r\n",
                "        return self.__name\r\n",
                "\r\n",
                "    @property\r\n",
                "    def bothInfo(self):\r\n",
                "        return [self.__name,self.__age]\r\n",
                "\r\n",
                "    # 屬性修改器(setter方法) - 修改__name屬性\r\n",
                "    @name.setter\r\n",
                "    def name(self, name):\r\n",
                "        # 如果name引數不為空就賦值給物件的__name屬性\r\n",
                "        # 否則將__name屬性賦值為'無名氏'，有兩種寫法\r\n",
                "        # self.__name = name if name else '無名氏'\r\n",
                "        self.__name = name or '無名氏'\r\n",
                "    \r\n",
                "stu = Student('王大錘', 20)\r\n",
                "print(stu._Student__name, stu._Student__age) # 直接存取的方式。王大錘 20\r\n",
                "\r\n",
                "print(stu.bothInfo) \r\n",
                "print(stu.bothInfo[0], stu.bothInfo[1])    # 王大錘 20\r\n",
                "stu.name = ''\r\n",
                "print(stu.name)    # 無名氏\r\n",
                "# stu.age = 30     # AttributeError: can"
            ],
            "outputs": [
                {
                    "output_type": "stream",
                    "name": "stdout",
                    "text": [
                        "王大錘 20\n",
                        "['王大錘', 20]\n",
                        "王大錘 20\n",
                        "無名氏\n"
                    ]
                }
            ],
            "metadata": {}
        },
        {
            "cell_type": "markdown",
            "source": [
                "## 第016課：面向對像程式設計入門\r\n",
                "* __ = dunder 就是寫給python看的，讓他執行的\r\n",
                "* __init__()，當建立物件(初始化方法)，獲取記憶體空間，然後存放物件的屬性\r\n",
                "* repr = representation，讓返回字串取代原本地址。\r\n",
                "* __str__若出現則取代原print結果，給人看的，待理解"
            ],
            "metadata": {}
        },
        {
            "cell_type": "code",
            "execution_count": 14,
            "source": [
                "class Student:\r\n",
                "\r\n",
                "    def __init__(self, name, age):\r\n",
                "        self.name = name\r\n",
                "        self.age = age\r\n",
                "        print(f'Student:{self.name}被建立了喔')\r\n",
                "\r\n",
                "    def __repr__(self) -> str:\r\n",
                "        return f'{self.name}: {self.age} years old'  \r\n",
                "\r\n",
                "    def study(self, course_name):\r\n",
                "        print(f'{self.name}正在學習{course_name}.')\r\n",
                "\r\n",
                "stu1 = Student('Alan',68)\r\n",
                "print(type(stu1)) # 仍是Student這個類別\r\n",
                "print(stu1)\r\n",
                "# 兩種方式從外部呼叫方法\r\n",
                "Student.study(stu1,'Nice game')\r\n",
                "stu1.study('Nice game')   "
            ],
            "outputs": [
                {
                    "output_type": "stream",
                    "name": "stdout",
                    "text": [
                        "Student:Alan被建立了喔\n",
                        "<class '__main__.Student'>\n",
                        "Alan: 68 years old\n",
                        "Alan正在學習Nice game.\n",
                        "Alan正在學習Nice game.\n"
                    ]
                }
            ],
            "metadata": {}
        },
        {
            "cell_type": "markdown",
            "source": [
                "list, set, tuple, str,...都是class不是方法"
            ],
            "metadata": {}
        },
        {
            "cell_type": "code",
            "execution_count": 5,
            "source": [
                "class list:\r\n",
                "    def __init__(self):\r\n",
                "        print('list被創建')\r\n",
                "test = list()\r\n",
                "print(type(test))"
            ],
            "outputs": [
                {
                    "output_type": "stream",
                    "name": "stdout",
                    "text": [
                        "list被創建\n",
                        "<class '__main__.list'>\n"
                    ]
                }
            ],
            "metadata": {}
        },
        {
            "cell_type": "markdown",
            "source": [
                "* stu1 = Student() 定義的變數其實儲存的是一個物件在記憶體中的邏輯地址（位置）=> 利用地址就能在記憶體找到這個物件\r\n",
                "* stu3 = stu2 這樣的賦值語則建立新的物件，只是用一個新的變數儲存了已有物件的地址"
            ],
            "metadata": {}
        },
        {
            "cell_type": "code",
            "execution_count": 2,
            "source": [
                "class Student:\r\n",
                "    def study(self, course_name):\r\n",
                "        print(f'學生正在學習{course_name}.')\r\n",
                "    def play(self):\r\n",
                "        print(f'學生正在玩遊戲.')\r\n",
                "# 類別本身沒有存到記憶體\r\n",
                "print(Student)  \r\n",
                "# 建立兩個學生物件\r\n",
                "stu1 = Student() # 構造器語法\r\n",
                "stu2 = Student()\r\n",
                "stu3 = stu2\r\n",
                "print(stu1)   \r\n",
                "print(stu2)  \r\n",
                "print(stu3)  \r\n",
                "print(hex(id(stu1)), hex(id(stu2)))    "
            ],
            "outputs": [
                {
                    "output_type": "stream",
                    "name": "stdout",
                    "text": [
                        "<class '__main__.Student'>\n",
                        "<__main__.Student object at 0x0000000004AF3C10>\n",
                        "<__main__.Student object at 0x0000000004AF3F10>\n",
                        "<__main__.Student object at 0x0000000004AF3F10>\n",
                        "0x4af3c10 0x4af3f10\n"
                    ]
                }
            ],
            "metadata": {}
        }
    ],
    "metadata": {
        "orig_nbformat": 4,
        "language_info": {
            "name": "python",
            "version": "3.8.7",
            "mimetype": "text/x-python",
            "codemirror_mode": {
                "name": "ipython",
                "version": 3
            },
            "pygments_lexer": "ipython3",
            "nbconvert_exporter": "python",
            "file_extension": ".py"
        },
        "kernelspec": {
            "name": "python3",
            "display_name": "Python 3.8.7 64-bit"
        },
        "interpreter": {
            "hash": "f496e74250f09e02f45ac5836ff921176ce18902e2bbabbed1334249f51a6661"
        }
    },
    "nbformat": 4,
    "nbformat_minor": 2
}