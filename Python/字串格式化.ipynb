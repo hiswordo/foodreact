{
    "cells": [
        {
            "cell_type": "markdown",
            "source": [
                "# 字串格式化 & 佔位符的用法\r\n",
                "* While other string literals always have a constant value, formatted strings are really expressions evaluated at run time. \r\n",
                "（與具有恆定值的其它字串常數不同，格式化字串實際上是執行時運算求值的表達式。） \r\n",
                "—— Python Documentation\r\n",
                "* 官方文件: [string --- 常見的字符串操作 — Python 3.9.6 說明文件](https://docs.python.org/zh-tw/3/library/string.html#format-specification-mini-language) at 2021-08-11T21:42:32."
            ],
            "metadata": {}
        },
        {
            "cell_type": "markdown",
            "source": [
                "## %-formatting\r\n",
                "* 與 C 語言類似的 %-formatting\r\n",
                "* 將tuple中的變量依指定的格式化方式輸出，轉換需在格式化之前完成，不過 %s（字串會自轉）、 %d（整數）、 %f（浮點數）。還有%e(科學記號)等\r\n",
                "* 缺點: 多變量的情況，容易搞錯也不易讀"
            ],
            "metadata": {}
        },
        {
            "cell_type": "code",
            "execution_count": 40,
            "source": [
                "string = \"Henry\"\r\n",
                "num = 5604\r\n",
                "print(\"%s say: %d is %f, they are the same\" %(string,num,num))\r\n",
                "print(\"%s say: %e is %.3f\" %(string,num,num)) # 調整小數後取幾位，四捨五入"
            ],
            "outputs": [
                {
                    "output_type": "stream",
                    "name": "stdout",
                    "text": [
                        "Henry say: 5604 is 5604.000000, they are the same\n",
                        "Henry say: 5.604000e+03 is 5604.000\n"
                    ]
                }
            ],
            "metadata": {}
        },
        {
            "cell_type": "markdown",
            "source": [
                "## f-string\r\n",
                "* 2008 發布的 Python 2.6\r\n",
                "* str.format()，透過 {} 和: 來代替 %運算符號\r\n",
                "* 缺點: 接變量，變超長，如下\r\n",
                "* 注意: {:}需要冒號時會有問題，可以加上()在裡面來處理。ex: {(lambda x: x ** 2 + 1) (2)}"
            ],
            "metadata": {}
        },
        {
            "cell_type": "code",
            "execution_count": 51,
            "source": [
                "string = \"Henry\"\r\n",
                "num = 5604\r\n",
                "print(\"{name:^10s} say: {num1:,} is {num2:f}, they are the same\".format(name=string,num1=num,num2=num)) # ^居中，10寬度\r\n",
                "print(\"{name:<10s} say: {num1:e} is {num2:.3f}, they are the same\".format(name=string,num1=num,num2=num)) # <向左，10寬度\r\n",
                "# 當然如果沒有需要指定格式，可以改用{}\r\n",
                "print(\"{} say: {} is {}, they are the same\".format(string,num,num)) # 不指定格式，依序匯入"
            ],
            "outputs": [
                {
                    "output_type": "stream",
                    "name": "stdout",
                    "text": [
                        "  Henry    say: 5,604 is 5604.000000, they are the same\n",
                        "Henry      say: 5.604000e+03 is 5604.000, they are the same\n",
                        "Henry say: 5604 is 5604, they are the same\n"
                    ]
                }
            ],
            "metadata": {}
        },
        {
            "cell_type": "markdown",
            "source": [
                "## f-string\r\n",
                "* 2016 發布的 Python 3.6 新增\r\n",
                "* f-string 上兩者優點，最短也易讀。f\"\" or F\"\" 皆可\r\n",
                "* 除了可以同format的格式使用，還可以使用表達式{3*4}其結果為12，{ \\\\ }不可用\r\n",
                "* 若有'或\"的衝突也可用f'''{}'''的方式表達，也能表達多行字"
            ],
            "metadata": {}
        },
        {
            "cell_type": "code",
            "execution_count": 60,
            "source": [
                "string = \"Henry\"\r\n",
                "num = 5604\r\n",
                "print(f\"{string} say: {num:06} is {num:f}, they are the same {2802*2}\") # 06六位數字，不足補0\r\n",
                "print(f\"{string} say: {num:+} is {num:f}, they are the same {2802*2}\") # 加+等於正負表達、"
            ],
            "outputs": [
                {
                    "output_type": "stream",
                    "name": "stdout",
                    "text": [
                        "Henry say: 005604 is 5604.000000, they are the same 5604\n",
                        "Henry say: +5604 is 5604.000000, they are the same 5604\n"
                    ]
                }
            ],
            "metadata": {}
        },
        {
            "cell_type": "markdown",
            "source": [
                "### 應用: datetime"
            ],
            "metadata": {}
        },
        {
            "cell_type": "code",
            "execution_count": 54,
            "source": [
                "import datetime\r\n",
                "e = datetime.datetime.today()\r\n",
                "print(f'the time is {e:%Y-%m-%d (%a) %H:%M:%S}') # 2021-08-12 (Thu) 05:50:26"
            ],
            "outputs": [
                {
                    "output_type": "stream",
                    "name": "stdout",
                    "text": [
                        "the time is 2021-08-12 (Thu) 05:50:26\n"
                    ]
                }
            ],
            "metadata": {}
        },
        {
            "cell_type": "markdown",
            "source": [
                "### 應用: lambda"
            ],
            "metadata": {}
        },
        {
            "cell_type": "code",
            "execution_count": 62,
            "source": [
                "print(f'result is {(lambda x: x ** 2 + 1)(inputnum := 7)}')"
            ],
            "outputs": [
                {
                    "output_type": "stream",
                    "name": "stdout",
                    "text": [
                        "result is 50\n"
                    ]
                }
            ],
            "metadata": {}
        },
        {
            "cell_type": "markdown",
            "source": [
                "[Python格式化字串f-string f「{}{}{}「詳細介紹 - tw511教學網](https://tw511.com/a/01/9107.html) at 2021-08-11T20:12:27.\r\n",
                "\r\n",
                "[比較 Python 的格式化字串 — %-formatting、str.format()、 f-string | by Jo-Yu Liao | Medium](https://zoejoyuliao.medium.com/%E6%AF%94%E8%BC%83-python-%E7%9A%84%E6%A0%BC%E5%BC%8F%E5%8C%96%E5%AD%97%E4%B8%B2-formatting-str-format-f-string-6d28487ba1d2) at 2021-08-11T20:36:13."
            ],
            "metadata": {}
        }
    ],
    "metadata": {
        "orig_nbformat": 4,
        "language_info": {
            "name": "python",
            "version": "3.8.7",
            "mimetype": "text/x-python",
            "codemirror_mode": {
                "name": "ipython",
                "version": 3
            },
            "pygments_lexer": "ipython3",
            "nbconvert_exporter": "python",
            "file_extension": ".py"
        },
        "kernelspec": {
            "name": "python3",
            "display_name": "Python 3.8.7 64-bit"
        },
        "interpreter": {
            "hash": "f496e74250f09e02f45ac5836ff921176ce18902e2bbabbed1334249f51a6661"
        }
    },
    "nbformat": 4,
    "nbformat_minor": 2
}